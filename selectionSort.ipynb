{
 "cells": [
  {
   "cell_type": "markdown",
   "metadata": {},
   "source": [
    "# Selection Sort\n",
    "\n",
    "## Time complexity is O(n^2) ave"
   ]
  },
  {
   "cell_type": "code",
   "execution_count": 15,
   "metadata": {},
   "outputs": [],
   "source": [
    "class SelectionSort():\n",
    "    def __init__(self,data):\n",
    "        for i in range(len(data)):\n",
    "            min_ele = min(data[i:]) #Find minimum element to the right of index\n",
    "            min_ele_index = data[i:].index(min_ele) #Find the index of element\n",
    "            data[i + min_ele_index],data[i] = data[i],min_ele #Swap the current element and Min element\n",
    "        print data"
   ]
  },
  {
   "cell_type": "code",
   "execution_count": 16,
   "metadata": {},
   "outputs": [
    {
     "name": "stdout",
     "output_type": "stream",
     "text": [
      "[-1, 0, 1, 2, 6, 53, 88]\n"
     ]
    },
    {
     "data": {
      "text/plain": [
       "<__main__.SelectionSort instance at 0x7faa1ccc6bd8>"
      ]
     },
     "execution_count": 16,
     "metadata": {},
     "output_type": "execute_result"
    }
   ],
   "source": [
    "SelectionSort([1,2,6,-1,0,88,53]) #Call the object and pass the numbers as List"
   ]
  },
  {
   "cell_type": "code",
   "execution_count": null,
   "metadata": {},
   "outputs": [],
   "source": []
  }
 ],
 "metadata": {
  "kernelspec": {
   "display_name": "Python 2",
   "language": "python",
   "name": "python2"
  },
  "language_info": {
   "codemirror_mode": {
    "name": "ipython",
    "version": 2
   },
   "file_extension": ".py",
   "mimetype": "text/x-python",
   "name": "python",
   "nbconvert_exporter": "python",
   "pygments_lexer": "ipython2",
   "version": "2.7.12"
  }
 },
 "nbformat": 4,
 "nbformat_minor": 2
}
