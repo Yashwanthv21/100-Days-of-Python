{
 "cells": [
  {
   "cell_type": "markdown",
   "metadata": {},
   "source": [
    "## Implement depth-first search on a graph\n",
    "Complexity:\n",
    "\n",
    "    Time: O(V + E), where V = number of vertices and E = number of edges\n",
    "    Space: O(V), for the recursion depth\n"
   ]
  },
  {
   "cell_type": "code",
   "execution_count": null,
   "metadata": {},
   "outputs": [],
   "source": [
    "from collections import defaultdict\n",
    " \n",
    "# This class represents a directed graph using\n",
    "# adjacency list representation\n",
    "class Graph:\n",
    " \n",
    "    # Constructor\n",
    "    def __init__(self):\n",
    " \n",
    "        # default dictionary to store graph\n",
    "        self.graph = defaultdict(list)\n",
    " \n",
    "    # function to add an edge to graph\n",
    "    def addEdge(self,u,v):\n",
    "        self.graph[u].append(v)\n",
    " \n",
    "    # A function used by DFS\n",
    "    def DFSUtil(self,v,visited):\n",
    " \n",
    "        # Mark the current node as visited and print it\n",
    "        visited[v]= True\n",
    "        print v,\n",
    " \n",
    "        # Recur for all the vertices adjacent to this vertex\n",
    "        for i in self.graph[v]:\n",
    "            if visited[i] == False:\n",
    "                self.DFSUtil(i, visited)\n",
    " \n",
    " \n",
    "    # The function to do DFS traversal. It uses\n",
    "    # recursive DFSUtil()\n",
    "    def DFS(self,v):\n",
    " \n",
    "        # Mark all the vertices as not visited\n",
    "        visited = [False]*(len(self.graph))\n",
    " \n",
    "        # Call the recursive helper function to print\n",
    "        # DFS traversal\n",
    "        self.DFSUtil(v,visited)"
   ]
  },
  {
   "cell_type": "code",
   "execution_count": 2,
   "metadata": {},
   "outputs": [],
   "source": [
    "g = Graph()\n",
    "g.addEdge(0, 1)\n",
    "g.addEdge(0, 2)\n",
    "g.addEdge(1, 2)\n",
    "g.addEdge(2, 0)\n",
    "g.addEdge(2, 3)\n",
    "g.addEdge(3, 3)"
   ]
  },
  {
   "cell_type": "code",
   "execution_count": 3,
   "metadata": {},
   "outputs": [
    {
     "name": "stdout",
     "output_type": "stream",
     "text": [
      "Following is DFS from (starting from vertex 2)\n",
      "2 0 1 3\n"
     ]
    }
   ],
   "source": [
    "print \"Following is DFS from (starting from vertex 2)\"\n",
    "g.DFS(2)"
   ]
  },
  {
   "cell_type": "code",
   "execution_count": null,
   "metadata": {},
   "outputs": [],
   "source": []
  }
 ],
 "metadata": {
  "kernelspec": {
   "display_name": "Python 2",
   "language": "python",
   "name": "python2"
  },
  "language_info": {
   "codemirror_mode": {
    "name": "ipython",
    "version": 2
   },
   "file_extension": ".py",
   "mimetype": "text/x-python",
   "name": "python",
   "nbconvert_exporter": "python",
   "pygments_lexer": "ipython2",
   "version": "2.7.12"
  }
 },
 "nbformat": 4,
 "nbformat_minor": 2
}
