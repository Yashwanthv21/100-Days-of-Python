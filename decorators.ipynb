{
 "cells": [
  {
   "cell_type": "markdown",
   "metadata": {},
   "source": [
    "### decorator is a function that takes another function and extends the behavior of the latter function without explicitly modifying it. "
   ]
  },
  {
   "cell_type": "code",
   "execution_count": null,
   "metadata": {},
   "outputs": [],
   "source": [
    "# Program 1\n",
    "def function1(inner_fun):\n",
    "    def function1_1():\n",
    "        print \"I am 1.1\"\n",
    "    \n",
    "        inner_fun()\n",
    "    \n",
    "        print \"I am after inner function\"\n",
    "    return function1_1"
   ]
  },
  {
   "cell_type": "code",
   "execution_count": null,
   "metadata": {},
   "outputs": [],
   "source": [
    "# without decorators\n",
    "def function2():\n",
    "    print \"I am function 2\"\n",
    "    \n",
    "function2 = function1(function2)\n",
    "\n",
    "function2()"
   ]
  },
  {
   "cell_type": "code",
   "execution_count": null,
   "metadata": {},
   "outputs": [],
   "source": [
    "# With using decorators\n",
    "@function1\n",
    "def function2():\n",
    "    print \"It works\"\n",
    "    \n",
    "function2()"
   ]
  }
 ],
 "metadata": {
  "kernelspec": {
   "display_name": "Python 2",
   "language": "python",
   "name": "python2"
  },
  "language_info": {
   "codemirror_mode": {
    "name": "ipython",
    "version": 2
   },
   "file_extension": ".py",
   "mimetype": "text/x-python",
   "name": "python",
   "nbconvert_exporter": "python",
   "pygments_lexer": "ipython2",
   "version": "2.7.12"
  }
 },
 "nbformat": 4,
 "nbformat_minor": 2
}
