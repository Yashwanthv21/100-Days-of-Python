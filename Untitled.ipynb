{
 "cells": [
  {
   "cell_type": "code",
   "execution_count": null,
   "metadata": {},
   "outputs": [],
   "source": [
    "# Binary search"
   ]
  },
  {
   "cell_type": "code",
   "execution_count": 3,
   "metadata": {},
   "outputs": [],
   "source": [
    "def binary_search(array, target):\n",
    "    lower = 0\n",
    "    upper = len(array)\n",
    "    while lower < upper:   \n",
    "        x = lower + (upper - lower) // 2\n",
    "        val = array[x]\n",
    "        if target == val:\n",
    "            return x\n",
    "        elif target > val:\n",
    "            if lower == x:   \n",
    "                break        \n",
    "            lower = x\n",
    "        elif target < val:\n",
    "            upper = x"
   ]
  },
  {
   "cell_type": "code",
   "execution_count": 11,
   "metadata": {},
   "outputs": [
    {
     "name": "stdout",
     "output_type": "stream",
     "text": [
      "None\n"
     ]
    }
   ],
   "source": [
    "array = [1,2,3,4,5,6,88,999]\n",
    "target = 8\n",
    "\n",
    "print binary_search(array,target)"
   ]
  }
 ],
 "metadata": {
  "kernelspec": {
   "display_name": "Python 2",
   "language": "python",
   "name": "python2"
  },
  "language_info": {
   "codemirror_mode": {
    "name": "ipython",
    "version": 2
   },
   "file_extension": ".py",
   "mimetype": "text/x-python",
   "name": "python",
   "nbconvert_exporter": "python",
   "pygments_lexer": "ipython2",
   "version": "2.7.12"
  }
 },
 "nbformat": 4,
 "nbformat_minor": 2
}
